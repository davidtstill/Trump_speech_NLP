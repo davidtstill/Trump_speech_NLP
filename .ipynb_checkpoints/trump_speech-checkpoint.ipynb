{
 "cells": [
  {
   "cell_type": "markdown",
   "metadata": {},
   "source": [
    "## Performing Sentiment Analysis on Trump Campaign Speeches"
   ]
  },
  {
   "cell_type": "code",
   "execution_count": 12,
   "metadata": {},
   "outputs": [],
   "source": [
    "import glob\n",
    "import errno\n",
    "\n",
    "path= '/speeches/*.txt'\n",
    "files = glob.glob(path) \n",
    "for name in files: \n",
    "    try: \n",
    "        with open(name) as infile:\n",
    "            contents = infile.read()\n",
    "            outfile.write(contents) \n",
    "    except IOError as exc: \n",
    "        if exc.errno != errno.EISDIR: \n",
    "            raise "
   ]
  },
  {
   "cell_type": "code",
   "execution_count": 13,
   "metadata": {},
   "outputs": [
    {
     "ename": "NameError",
     "evalue": "name 'contents' is not defined",
     "output_type": "error",
     "traceback": [
      "\u001b[1;31m---------------------------------------------------------------------------\u001b[0m",
      "\u001b[1;31mNameError\u001b[0m                                 Traceback (most recent call last)",
      "\u001b[1;32m<ipython-input-13-572c291421cd>\u001b[0m in \u001b[0;36m<module>\u001b[1;34m\u001b[0m\n\u001b[1;32m----> 1\u001b[1;33m \u001b[0mcontents\u001b[0m\u001b[1;33m\u001b[0m\u001b[1;33m\u001b[0m\u001b[0m\n\u001b[0m",
      "\u001b[1;31mNameError\u001b[0m: name 'contents' is not defined"
     ]
    }
   ],
   "source": [
    "contents"
   ]
  },
  {
   "cell_type": "code",
   "execution_count": 5,
   "metadata": {},
   "outputs": [
    {
     "ename": "FileNotFoundError",
     "evalue": "[Errno 2] No such file or directory: 'BattleCreekDec19_2019.txt'",
     "output_type": "error",
     "traceback": [
      "\u001b[1;31m---------------------------------------------------------------------------\u001b[0m",
      "\u001b[1;31mFileNotFoundError\u001b[0m                         Traceback (most recent call last)",
      "\u001b[1;32m<ipython-input-5-d19db2dd922b>\u001b[0m in \u001b[0;36m<module>\u001b[1;34m\u001b[0m\n\u001b[0;32m     18\u001b[0m \u001b[1;32mwith\u001b[0m \u001b[0mopen\u001b[0m\u001b[1;33m(\u001b[0m\u001b[1;34m\"speeches/output_file.txt\"\u001b[0m\u001b[1;33m,\u001b[0m \u001b[1;34m\"w\"\u001b[0m\u001b[1;33m)\u001b[0m \u001b[1;32mas\u001b[0m \u001b[0moutfile\u001b[0m\u001b[1;33m:\u001b[0m\u001b[1;33m\u001b[0m\u001b[1;33m\u001b[0m\u001b[0m\n\u001b[0;32m     19\u001b[0m     \u001b[1;32mfor\u001b[0m \u001b[0mfilename\u001b[0m \u001b[1;32min\u001b[0m \u001b[0mfilenames\u001b[0m\u001b[1;33m:\u001b[0m\u001b[1;33m\u001b[0m\u001b[1;33m\u001b[0m\u001b[0m\n\u001b[1;32m---> 20\u001b[1;33m         \u001b[1;32mwith\u001b[0m \u001b[0mopen\u001b[0m\u001b[1;33m(\u001b[0m\u001b[0mfilename\u001b[0m\u001b[1;33m)\u001b[0m \u001b[1;32mas\u001b[0m \u001b[0minfile\u001b[0m\u001b[1;33m:\u001b[0m\u001b[1;33m\u001b[0m\u001b[1;33m\u001b[0m\u001b[0m\n\u001b[0m\u001b[0;32m     21\u001b[0m             \u001b[0mcontents\u001b[0m \u001b[1;33m=\u001b[0m \u001b[0minfile\u001b[0m\u001b[1;33m.\u001b[0m\u001b[0mread\u001b[0m\u001b[1;33m(\u001b[0m\u001b[1;33m)\u001b[0m\u001b[1;33m\u001b[0m\u001b[1;33m\u001b[0m\u001b[0m\n\u001b[0;32m     22\u001b[0m             \u001b[0moutfile\u001b[0m\u001b[1;33m.\u001b[0m\u001b[0mwrite\u001b[0m\u001b[1;33m(\u001b[0m\u001b[0mcontents\u001b[0m\u001b[1;33m)\u001b[0m\u001b[1;33m\u001b[0m\u001b[1;33m\u001b[0m\u001b[0m\n",
      "\u001b[1;31mFileNotFoundError\u001b[0m: [Errno 2] No such file or directory: 'BattleCreekDec19_2019.txt'"
     ]
    }
   ],
   "source": [
    "#Appending all the text files to an empty list\n",
    "\n",
    "filenames = [\"BattleCreekDec19_2019.txt\", \"BemidjiSep18_2020.txt\", \"CharlestonFeb28_2020.txt\",\n",
    "             \"CharlotteMar2_2020.txt\", \"CincinnatiAug1_2019.txt\", \"ColoradorSpringsFeb20_2020.txt\",\n",
    "             \"DallasOct17_2019.txt\", \"DesMoinesJan30_2020.txt\", \"FayettevilleSep9_2019.txt\",\n",
    "             \"FayettevilleSep19_2020.txt\", \"FreelandSep10_2020.txt\", \"GreenvilleJul17_2019.txt\",\n",
    "             \"HendersonSep13_2020.txt\", \"HersheyDec10_2019.txt\", \"LasVegasFeb21_2020.txt\", \n",
    "             \"LatrobeSep3_2020.txt\", \"LexingtonNov4_2019.txt\", \"MilwaukeeJan14_2020.txt\",\n",
    "             \"MindenSep12_2020.txt\", \"MinneapolisOct10_2019.txt\", \"MosineeSep17_2020.txt\",\n",
    "             \"NewHampshireAug15_2019.txt\", \"NewHampshireAug28_2020.txt\", \"NewHampshireFeb10_2020.txt\",\n",
    "             \"NewMexicoSep16_2019.txt\", \"OhioSep21_2020.txt\", \"PhoenixFeb19_2020.txt\", \n",
    "             \"PittsburghSep22_2020.txt\", \"TexasSep23_2019.txt\", \"ToledoJan9_2020.txt\",\n",
    "             \"TulsaJun20_2020.txt\", \"TupeloNov1_2019.txt\", \"WildwoodJan28_2020.txt\", \n",
    "             \"Winston-SalemSep8_2020.txt\", \"YumaAug18_2020.txt\"]\n",
    "             \n",
    "#Concatenating all the Trump speeches into one file\n"
   ]
  },
  {
   "cell_type": "code",
   "execution_count": null,
   "metadata": {},
   "outputs": [],
   "source": [
    "file_path = Path(\"speeches\"/\"BattleCreekDec19_2019.txt\", \"BemidjiSep18_2020.txt\", \"CharlestonFeb28_2020.txt\",\n",
    "             \"CharlotteMar2_2020.txt\", \"CincinnatiAug1_2019.txt\", \"ColoradorSpringsFeb20_2020.txt\",\n",
    "             \"DallasOct17_2019.txt\", \"DesMoinesJan30_2020.txt\", \"FayettevilleSep9_2019.txt\",\n",
    "             \"FayettevilleSep19_2020.txt\", \"FreelandSep10_2020.txt\", \"GreenvilleJul17_2019.txt\",\n",
    "             \"HendersonSep13_2020.txt\", \"HersheyDec10_2019.txt\", \"LasVegasFeb21_2020.txt\", \n",
    "             \"LatrobeSep3_2020.txt\", \"LexingtonNov4_2019.txt\", \"MilwaukeeJan14_2020.txt\",\n",
    "             \"MindenSep12_2020.txt\", \"MinneapolisOct10_2019.txt\", \"MosineeSep17_2020.txt\",\n",
    "             \"NewHampshireAug15_2019.txt\", \"NewHampshireAug28_2020.txt\", \"NewHampshireFeb10_2020.txt\",\n",
    "             \"NewMexicoSep16_2019.txt\", \"OhioSep21_2020.txt\", \"PhoenixFeb19_2020.txt\", \n",
    "             \"PittsburghSep22_2020.txt\", \"TexasSep23_2019.txt\", \"ToledoJan9_2020.txt\",\n",
    "             \"TulsaJun20_2020.txt\", \"TupeloNov1_2019.txt\", \"WildwoodJan28_2020.txt\", \n",
    "             \"Winston-SalemSep8_2020.txt\", \"YumaAug18_2020.txt\")"
   ]
  },
  {
   "cell_type": "code",
   "execution_count": null,
   "metadata": {},
   "outputs": [],
   "source": [
    "with open(\"output_file.txt\", \"w\") as outfile:\n",
    "    for filename in filenames:\n",
    "        with open(filename) as infile:\n",
    "            contents = infile.read()\n",
    "            outfile.write(contents)"
   ]
  }
 ],
 "metadata": {
  "kernelspec": {
   "display_name": "Python 3",
   "language": "python",
   "name": "python3"
  },
  "language_info": {
   "codemirror_mode": {
    "name": "ipython",
    "version": 3
   },
   "file_extension": ".py",
   "mimetype": "text/x-python",
   "name": "python",
   "nbconvert_exporter": "python",
   "pygments_lexer": "ipython3",
   "version": "3.7.6"
  }
 },
 "nbformat": 4,
 "nbformat_minor": 4
}
