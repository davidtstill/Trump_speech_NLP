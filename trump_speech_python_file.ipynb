{
 "cells": [
  {
   "cell_type": "markdown",
   "metadata": {},
   "source": [
    "## Performing Sentiment Analysis on Trump Campaign Speeches"
   ]
  },
  {
   "cell_type": "code",
   "execution_count": 1,
   "metadata": {},
   "outputs": [],
   "source": [
    "#Creating a list of the file names to iterate in a for loop\n",
    "\n",
    "filenames = [\"BattleCreekDec19_2019.txt\", \"BemidjiSep18_2020.txt\", \"CharlestonFeb28_2020.txt\",\n",
    "             \"CharlotteMar2_2020.txt\", \"CincinnatiAug1_2019.txt\", \"ColoradorSpringsFeb20_2020.txt\",\n",
    "             \"DallasOct17_2019.txt\", \"DesMoinesJan30_2020.txt\", \"FayettevilleSep9_2019.txt\",\n",
    "             \"FayettevilleSep19_2020.txt\", \"GreenvilleJul17_2019.txt\",\n",
    "             \"HendersonSep13_2020.txt\", \"HersheyDec10_2019.txt\", \"LasVegasFeb21_2020.txt\", \n",
    "             \"LatrobeSep3_2020.txt\", \"LexingtonNov4_2019.txt\", \"MilwaukeeJan14_2020.txt\",\n",
    "             \"MindenSep12_2020.txt\", \"MinneapolisOct10_2019.txt\", \"MosineeSep17_2020.txt\",\n",
    "             \"NewHampshireAug15_2019.txt\", \"NewHampshireAug28_2020.txt\", \"NewHampshireFeb10_2020.txt\",\n",
    "             \"NewMexicoSep16_2019.txt\", \"OhioSep21_2020.txt\", \"PhoenixFeb19_2020.txt\", \n",
    "             \"PittsburghSep22_2020.txt\", \"TexasSep23_2019.txt\", \"ToledoJan9_2020.txt\",\n",
    "             \"TulsaJun20_2020.txt\", \"TupeloNov1_2019.txt\", \"WildwoodJan28_2020.txt\", \n",
    "             \"Winston-SalemSep8_2020.txt\", \"YumaAug18_2020.txt\"]"
   ]
  },
  {
   "cell_type": "code",
   "execution_count": 2,
   "metadata": {},
   "outputs": [],
   "source": [
    "#Concatenating all the speech files into one text file\n",
    "\n",
    "with open('speeches_combined.txt', 'w') as outfile:\n",
    "    for fname in filenames:\n",
    "        with open(fname) as infile:\n",
    "            outfile.write(infile.read())"
   ]
  },
  {
   "cell_type": "code",
   "execution_count": null,
   "metadata": {},
   "outputs": [],
   "source": []
  }
 ],
 "metadata": {
  "kernelspec": {
   "display_name": "Python 3",
   "language": "python",
   "name": "python3"
  },
  "language_info": {
   "codemirror_mode": {
    "name": "ipython",
    "version": 3
   },
   "file_extension": ".py",
   "mimetype": "text/x-python",
   "name": "python",
   "nbconvert_exporter": "python",
   "pygments_lexer": "ipython3",
   "version": "3.7.6"
  }
 },
 "nbformat": 4,
 "nbformat_minor": 4
}
